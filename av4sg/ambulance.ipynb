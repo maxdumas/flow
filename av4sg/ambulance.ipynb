{
 "cells": [
  {
   "cell_type": "code",
   "execution_count": 97,
   "metadata": {},
   "outputs": [],
   "source": [
    "import flow\n",
    "from flow.networks.ring import RingNetwork\n",
    "from flow.core.params import VehicleParams\n",
    "from flow.controllers.car_following_models import IDMController\n",
    "from flow.controllers.routing_controllers import ContinuousRouter\n",
    "from flow.envs.ring.accel import AccelEnv\n",
    "from flow.core.experiment import Experiment\n"
   ]
  },
  {
   "cell_type": "code",
   "execution_count": 98,
   "metadata": {},
   "outputs": [],
   "source": [
    "from flow.controllers.base_lane_changing_controller import BaseLaneChangeController\n",
    "\n",
    "# We want the ambulance to always prefer the left lane, so we create this lane-changing controller that makes them always enter the left lane\n",
    "class LeftLaneController(BaseLaneChangeController):\n",
    "    \"\"\"A lane-changing model used to move vehicles into the left lane.\"\"\"\n",
    "    ##### Below this is new code #####\n",
    "    def get_lane_change_action(self, env):\n",
    "        current_lane = env.k.vehicle.get_lane(self.veh_id)\n",
    "        if current_lane < 4:\n",
    "            return 1\n",
    "        else:\n",
    "            return 0"
   ]
  },
  {
   "cell_type": "code",
   "execution_count": 99,
   "metadata": {},
   "outputs": [],
   "source": [
    "\n",
    "vehicles = VehicleParams()\n",
    "vehicles.add(\"ambulance\",\n",
    "             acceleration_controller=(IDMController, {}),\n",
    "             lane_change_controller=(LeftLaneController, {}),\n",
    "             routing_controller=(ContinuousRouter, {}),\n",
    "             num_vehicles=1,\n",
    "             color=\"red\")\n",
    "# vehicles.add(\"human\",\n",
    "#              acceleration_controller=(IDMController, {}),\n",
    "#              routing_controller=(ContinuousRouter, {}),\n",
    "#              num_vehicles=22)"
   ]
  },
  {
   "cell_type": "code",
   "execution_count": 100,
   "metadata": {},
   "outputs": [],
   "source": [
    "from flow.networks.ring import ADDITIONAL_NET_PARAMS\n",
    "from flow.core.params import NetParams\n",
    "\n",
    "net_params = NetParams(additional_params={**ADDITIONAL_NET_PARAMS, \"lanes\": 4})"
   ]
  },
  {
   "cell_type": "code",
   "execution_count": 101,
   "metadata": {},
   "outputs": [],
   "source": [
    "from flow.core.params import InitialConfig\n",
    "\n",
    "initial_config = InitialConfig(spacing=\"uniform\", perturbation=1)"
   ]
  },
  {
   "cell_type": "code",
   "execution_count": 102,
   "metadata": {},
   "outputs": [],
   "source": [
    "from flow.core.params import TrafficLightParams\n",
    "\n",
    "traffic_lights = TrafficLightParams()"
   ]
  },
  {
   "cell_type": "code",
   "execution_count": 103,
   "metadata": {},
   "outputs": [],
   "source": [
    "from flow.core.params import SumoParams\n",
    "\n",
    "sim_params = SumoParams(sim_step=0.1, render=True, emission_path='data')"
   ]
  },
  {
   "cell_type": "code",
   "execution_count": 104,
   "metadata": {},
   "outputs": [],
   "source": [
    "from flow.envs.ring.accel import ADDITIONAL_ENV_PARAMS\n",
    "from flow.core.params import EnvParams\n",
    "\n",
    "env_params = EnvParams(additional_params={**ADDITIONAL_ENV_PARAMS, \"horizon\": 3000})"
   ]
  },
  {
   "cell_type": "code",
   "execution_count": 105,
   "metadata": {},
   "outputs": [
    {
     "name": "stdout",
     "output_type": "stream",
     "text": [
      "Round 0, return: 102.93383751210014\n",
      "data/ambulance_20220827-1336101661621770.298505-0_emission.csv data\n",
      "Average, std returns: 102.93383751210014, 0.0\n",
      "Average, std velocities: 28.30231917626482, 0.0\n",
      "Average, std outflows: 0.0, 0.0\n",
      "Total time: 11.083554983139038\n",
      "steps/second: 2121.4451791457313\n"
     ]
    }
   ],
   "source": [
    "flow_params = dict(\n",
    "    exp_tag='ambulance',\n",
    "    env_name=AccelEnv,\n",
    "    network=RingNetwork,\n",
    "    simulator='traci',\n",
    "    sim=sim_params,\n",
    "    env=env_params,\n",
    "    net=net_params,\n",
    "    veh=vehicles,\n",
    "    initial=initial_config,\n",
    "    tls=traffic_lights,\n",
    ")\n",
    "\n",
    "# number of time steps\n",
    "flow_params['env'].horizon = 3000\n",
    "exp = Experiment(flow_params)\n",
    "\n",
    "# run the sumo simulation\n",
    "_ = exp.run(1, convert_to_csv=True)"
   ]
  }
 ],
 "metadata": {
  "kernelspec": {
   "display_name": "Python 3.7.3 ('flow')",
   "language": "python",
   "name": "python3"
  },
  "language_info": {
   "codemirror_mode": {
    "name": "ipython",
    "version": 3
   },
   "file_extension": ".py",
   "mimetype": "text/x-python",
   "name": "python",
   "nbconvert_exporter": "python",
   "pygments_lexer": "ipython3",
   "version": "3.7.12"
  },
  "orig_nbformat": 4,
  "vscode": {
   "interpreter": {
    "hash": "562bcf4dd27bdafc0f8cdd7f072472196c05ea8eefb6c3d455e4df9cab17a5be"
   }
  }
 },
 "nbformat": 4,
 "nbformat_minor": 2
}
